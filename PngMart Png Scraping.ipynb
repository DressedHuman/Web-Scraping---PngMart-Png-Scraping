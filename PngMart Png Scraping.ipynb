{
 "cells": [
  {
   "cell_type": "code",
   "execution_count": 1,
   "id": "68a9ab8a-236c-4dd9-b61e-b060c1b01881",
   "metadata": {},
   "outputs": [],
   "source": [
    "import requests\n",
    "from bs4 import BeautifulSoup\n",
    "import os"
   ]
  },
  {
   "cell_type": "code",
   "execution_count": 2,
   "id": "0e4b3999-16c8-4258-b6ca-8cea5b45e291",
   "metadata": {},
   "outputs": [],
   "source": [
    "response = requests.get(\"https://www.pngmart.com/sitemap_index.xml\")\n",
    "soup = BeautifulSoup(response.text, \"xml\")"
   ]
  },
  {
   "cell_type": "code",
   "execution_count": 3,
   "id": "103a29d2-1e9b-4417-be20-5bc4e242a691",
   "metadata": {},
   "outputs": [],
   "source": [
    "sitemap_list = []\n",
    "for loc in soup.find_all(\"loc\"):\n",
    "    if \"post-sitemap\" in loc.text:\n",
    "        sitemap_list.append(loc.text)"
   ]
  },
  {
   "cell_type": "code",
   "execution_count": 4,
   "id": "bb3f9a4b-b1d9-4dca-8bb1-87ee73b698bc",
   "metadata": {},
   "outputs": [],
   "source": [
    "def get_png_from_sitemap(sitemap):\n",
    "    sitemap_name = sitemap.split(\"/\")[-1].split(\".\")[0]\n",
    "    \n",
    "    response = requests.get(sitemap)\n",
    "    soup = BeautifulSoup(response.text, \"xml\")\n",
    "    png_list = []\n",
    "    for png in soup.find_all(\"image:loc\"):\n",
    "        png_list.append(png.text)\n",
    "    \n",
    "    for png in png_list:\n",
    "        response = requests.get(png)\n",
    "        png_name = png.split(\"/\")[-1]\n",
    "        try:\n",
    "            with open(f\"{sitemap_name}/{png_name}\", \"wb\") as file:\n",
    "                file.write(response.content)\n",
    "        except:\n",
    "            os.system(f\"mkdir {sitemap_name}\")\n",
    "            with open(f\"{sitemap_name}/{png_name}\", \"wb\") as file:\n",
    "                file.write(response.content)"
   ]
  },
  {
   "cell_type": "code",
   "execution_count": null,
   "id": "33dda253-a8d4-4eb0-aa89-9e4a88ec1430",
   "metadata": {},
   "outputs": [],
   "source": [
    "get_png_from_sitemap(sitemap_list[0])"
   ]
  }
 ],
 "metadata": {
  "kernelspec": {
   "display_name": "Python 3 (ipykernel)",
   "language": "python",
   "name": "python3"
  },
  "language_info": {
   "codemirror_mode": {
    "name": "ipython",
    "version": 3
   },
   "file_extension": ".py",
   "mimetype": "text/x-python",
   "name": "python",
   "nbconvert_exporter": "python",
   "pygments_lexer": "ipython3",
   "version": "3.13.0"
  }
 },
 "nbformat": 4,
 "nbformat_minor": 5
}
